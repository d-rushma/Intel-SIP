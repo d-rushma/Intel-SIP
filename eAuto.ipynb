{
  "nbformat": 4,
  "nbformat_minor": 0,
  "metadata": {
    "colab": {
      "provenance": []
    },
    "kernelspec": {
      "name": "python3",
      "display_name": "Python 3"
    },
    "language_info": {
      "name": "python"
    }
  },
  "cells": [
    {
      "cell_type": "code",
      "execution_count": null,
      "metadata": {
        "colab": {
          "base_uri": "https://localhost:8080/"
        },
        "id": "9RqaXpVv5icm",
        "outputId": "07184c7b-f0b3-4620-8014-6f47e7132193"
      },
      "outputs": [
        {
          "output_type": "stream",
          "name": "stdout",
          "text": [
            "Mounted at /content/drive\n"
          ]
        }
      ],
      "source": [
        "from google.colab import drive\n",
        "drive.mount('/content/drive',force_remount=True)"
      ]
    },
    {
      "cell_type": "code",
      "source": [
        "import matplotlib.pyplot as plt\n",
        "import numpy as np\n",
        "import os\n",
        "import PIL\n",
        "import tensorflow as tf\n",
        "from tensorflow import keras\n",
        "from tensorflow.keras import layers\n",
        "from tensorflow.python.keras.layers import Dense, Flatten\n",
        "from tensorflow.keras.models import Sequential\n",
        "from tensorflow.keras.optimizers import Adam\n",
        "from keras.preprocessing.image import ImageDataGenerator, img_to_array, load_img"
      ],
      "metadata": {
        "id": "RCcnKlA-5jFO"
      },
      "execution_count": null,
      "outputs": []
    },
    {
      "cell_type": "code",
      "source": [
        "import os\n",
        "for dirpath, dirnames, filenames in os.walk(\"/content/drive/MyDrive/logos\"):\n",
        "  print(f\"There are {len(dirnames)} directories and {len(filenames)} images in '{dirpath}'.\")"
      ],
      "metadata": {
        "colab": {
          "base_uri": "https://localhost:8080/"
        },
        "id": "BxQcwlin5woC",
        "outputId": "6ffe2d17-f372-4123-e26a-7de1701e83fd"
      },
      "execution_count": null,
      "outputs": [
        {
          "output_type": "stream",
          "name": "stdout",
          "text": [
            "There are 9 directories and 0 images in '/content/drive/MyDrive/logos'.\n",
            "There are 0 directories and 45 images in '/content/drive/MyDrive/logos/Volkswagen'.\n",
            "There are 0 directories and 45 images in '/content/drive/MyDrive/logos/Suzuki'.\n",
            "There are 0 directories and 45 images in '/content/drive/MyDrive/logos/Nissan'.\n",
            "There are 0 directories and 45 images in '/content/drive/MyDrive/logos/Honday'.\n",
            "There are 0 directories and 45 images in '/content/drive/MyDrive/logos/Hyundai'.\n",
            "There are 0 directories and 45 images in '/content/drive/MyDrive/logos/Tata'.\n",
            "There are 0 directories and 45 images in '/content/drive/MyDrive/logos/Renault'.\n",
            "There are 0 directories and 45 images in '/content/drive/MyDrive/logos/Ford'.\n",
            "There are 0 directories and 45 images in '/content/drive/MyDrive/logos/Toyota'.\n"
          ]
        }
      ]
    },
    {
      "cell_type": "markdown",
      "source": [
        "#PRE-AUGMENTATION"
      ],
      "metadata": {
        "id": "fXsA1b7zOq3H"
      }
    },
    {
      "cell_type": "code",
      "source": [
        "data_dir='/content/drive/MyDrive/logos'"
      ],
      "metadata": {
        "id": "ynk3NNapN7nw"
      },
      "execution_count": null,
      "outputs": []
    },
    {
      "cell_type": "code",
      "source": [
        "img_height,img_width=180,180\n",
        "batch_size=32\n",
        "train_ds = tf.keras.preprocessing.image_dataset_from_directory(\n",
        "  data_dir,\n",
        "  validation_split=0.2,\n",
        "  subset=\"training\",\n",
        "  seed=123,\n",
        "  image_size=(img_height, img_width),\n",
        "  batch_size=batch_size)"
      ],
      "metadata": {
        "colab": {
          "base_uri": "https://localhost:8080/"
        },
        "id": "ghPV6_TQOHc5",
        "outputId": "ba6396cb-f6f6-4d09-ad2b-a7784f0225e4"
      },
      "execution_count": null,
      "outputs": [
        {
          "output_type": "stream",
          "name": "stdout",
          "text": [
            "Found 383 files belonging to 9 classes.\n",
            "Using 307 files for training.\n"
          ]
        }
      ]
    },
    {
      "cell_type": "code",
      "source": [
        "val_ds = tf.keras.preprocessing.image_dataset_from_directory(\n",
        "  data_dir,\n",
        "  validation_split=0.2,\n",
        "  subset=\"validation\",\n",
        "  seed=123,\n",
        "  image_size=(img_height, img_width),\n",
        "  batch_size=batch_size)"
      ],
      "metadata": {
        "colab": {
          "base_uri": "https://localhost:8080/"
        },
        "id": "gQjaZslUOYsN",
        "outputId": "6d7a066a-b370-42e3-e7b3-22d1402cc208"
      },
      "execution_count": null,
      "outputs": [
        {
          "output_type": "stream",
          "name": "stdout",
          "text": [
            "Found 383 files belonging to 9 classes.\n",
            "Using 76 files for validation.\n"
          ]
        }
      ]
    },
    {
      "cell_type": "code",
      "source": [
        "class_names = val_ds.class_names\n",
        "print(class_names)"
      ],
      "metadata": {
        "colab": {
          "base_uri": "https://localhost:8080/"
        },
        "id": "9V2jgN5-OfHG",
        "outputId": "5ea0c0d7-7046-46c9-f92f-fc08c076ad8d"
      },
      "execution_count": null,
      "outputs": [
        {
          "output_type": "stream",
          "name": "stdout",
          "text": [
            "['Ford', 'Honday', 'Hyundai', 'Nissan', 'Renault', 'Suzuki', 'Tata', 'Toyota', 'Volkswagen']\n"
          ]
        }
      ]
    },
    {
      "cell_type": "markdown",
      "source": [
        "#RESNET50 MODEL"
      ],
      "metadata": {
        "id": "MsqM7juHOxIf"
      }
    },
    {
      "cell_type": "code",
      "source": [
        "resnet_model = Sequential()\n",
        "\n",
        "pretrained_model= tf.keras.applications.ResNet50(include_top=False,\n",
        "                   input_shape=(180,180,3),\n",
        "                   pooling='avg',classes=9,\n",
        "                   weights='imagenet')\n",
        "for layer in pretrained_model.layers:\n",
        "        layer.trainable=False\n",
        "\n",
        "resnet_model.add(pretrained_model)\n",
        "resnet_model.add(Flatten())\n",
        "resnet_model.add(Dense(512, activation='relu'))\n",
        "resnet_model.add(Dense(9, activation='softmax'))"
      ],
      "metadata": {
        "colab": {
          "base_uri": "https://localhost:8080/"
        },
        "id": "KUfpv7JRN12f",
        "outputId": "85751f6f-87d7-49c0-85ba-3d1528170f7c"
      },
      "execution_count": null,
      "outputs": [
        {
          "output_type": "stream",
          "name": "stdout",
          "text": [
            "Downloading data from https://storage.googleapis.com/tensorflow/keras-applications/resnet/resnet50_weights_tf_dim_ordering_tf_kernels_notop.h5\n",
            "94765736/94765736 [==============================] - 3s 0us/step\n"
          ]
        }
      ]
    },
    {
      "cell_type": "code",
      "source": [
        "resnet_model.compile(optimizer=Adam(lr=0.001),loss='sparse_categorical_crossentropy',metrics=['accuracy'])"
      ],
      "metadata": {
        "colab": {
          "base_uri": "https://localhost:8080/"
        },
        "id": "1h_ImkbrOkgN",
        "outputId": "eedef885-bc21-44f9-833d-ea3979bd049f"
      },
      "execution_count": null,
      "outputs": [
        {
          "output_type": "stream",
          "name": "stderr",
          "text": [
            "WARNING:absl:`lr` is deprecated in Keras optimizer, please use `learning_rate` or use the legacy optimizer, e.g.,tf.keras.optimizers.legacy.Adam.\n"
          ]
        }
      ]
    },
    {
      "cell_type": "code",
      "source": [
        "epochs=10\n",
        "history = resnet_model.fit(train_ds,validation_data=val_ds,epochs=epochs)"
      ],
      "metadata": {
        "colab": {
          "base_uri": "https://localhost:8080/"
        },
        "id": "BOv8un3KOowh",
        "outputId": "77ac8b3f-e529-4630-c14a-835a78e31bc3"
      },
      "execution_count": null,
      "outputs": [
        {
          "output_type": "stream",
          "name": "stdout",
          "text": [
            "Epoch 1/10\n",
            "10/10 [==============================] - 64s 6s/step - loss: 0.0514 - accuracy: 1.0000 - val_loss: 1.7819 - val_accuracy: 0.4868\n",
            "Epoch 2/10\n",
            "10/10 [==============================] - 63s 6s/step - loss: 0.0436 - accuracy: 1.0000 - val_loss: 1.8032 - val_accuracy: 0.5000\n",
            "Epoch 3/10\n",
            "10/10 [==============================] - 63s 6s/step - loss: 0.0361 - accuracy: 1.0000 - val_loss: 1.7741 - val_accuracy: 0.5000\n",
            "Epoch 4/10\n",
            "10/10 [==============================] - 61s 6s/step - loss: 0.0304 - accuracy: 1.0000 - val_loss: 1.8036 - val_accuracy: 0.5263\n",
            "Epoch 5/10\n",
            "10/10 [==============================] - 63s 6s/step - loss: 0.0249 - accuracy: 1.0000 - val_loss: 1.8691 - val_accuracy: 0.5132\n",
            "Epoch 6/10\n",
            "10/10 [==============================] - 62s 6s/step - loss: 0.0206 - accuracy: 1.0000 - val_loss: 1.7942 - val_accuracy: 0.5132\n",
            "Epoch 7/10\n",
            "10/10 [==============================] - 53s 5s/step - loss: 0.0186 - accuracy: 1.0000 - val_loss: 1.8672 - val_accuracy: 0.5263\n",
            "Epoch 8/10\n",
            "10/10 [==============================] - 63s 6s/step - loss: 0.0165 - accuracy: 1.0000 - val_loss: 1.8774 - val_accuracy: 0.5132\n",
            "Epoch 9/10\n",
            "10/10 [==============================] - 63s 6s/step - loss: 0.0147 - accuracy: 1.0000 - val_loss: 1.8368 - val_accuracy: 0.5263\n",
            "Epoch 10/10\n",
            "10/10 [==============================] - 63s 6s/step - loss: 0.0135 - accuracy: 1.0000 - val_loss: 1.8975 - val_accuracy: 0.5132\n"
          ]
        }
      ]
    },
    {
      "cell_type": "markdown",
      "source": [
        "#VGG16"
      ],
      "metadata": {
        "id": "vnB_cFsqO8fl"
      }
    },
    {
      "cell_type": "code",
      "source": [
        "from tensorflow.keras.models import Sequential\n",
        "from tensorflow.keras.layers import Dense, Flatten\n",
        "from tensorflow.keras.applications import VGG16\n",
        "import tensorflow as tf"
      ],
      "metadata": {
        "id": "iQ4VDtU9O97L"
      },
      "execution_count": null,
      "outputs": []
    },
    {
      "cell_type": "code",
      "source": [
        "vgg_model = Sequential()\n",
        "pretrained_model = VGG16(include_top=False,\n",
        "                         input_shape=(180, 180, 3),\n",
        "                         pooling='avg',\n",
        "                         weights='imagenet')\n",
        "for layer in pretrained_model.layers:\n",
        "    layer.trainable = False\n",
        "vgg_model.add(pretrained_model)\n",
        "vgg_model.add(Flatten())\n",
        "vgg_model.add(Dense(512, activation='relu'))\n",
        "vgg_model.add(Dense(9, activation='softmax'))\n",
        "vgg_model.summary()"
      ],
      "metadata": {
        "colab": {
          "base_uri": "https://localhost:8080/"
        },
        "id": "zga2khOUO-6X",
        "outputId": "ea1ec11c-5ffc-4392-95c0-6968bee609c9"
      },
      "execution_count": null,
      "outputs": [
        {
          "output_type": "stream",
          "name": "stdout",
          "text": [
            "Model: \"sequential_3\"\n",
            "_________________________________________________________________\n",
            " Layer (type)                Output Shape              Param #   \n",
            "=================================================================\n",
            " vgg16 (Functional)          (None, 512)               14714688  \n",
            "                                                                 \n",
            " flatten_2 (Flatten)         (None, 512)               0         \n",
            "                                                                 \n",
            " dense_4 (Dense)             (None, 512)               262656    \n",
            "                                                                 \n",
            " dense_5 (Dense)             (None, 9)                 4617      \n",
            "                                                                 \n",
            "=================================================================\n",
            "Total params: 14981961 (57.15 MB)\n",
            "Trainable params: 267273 (1.02 MB)\n",
            "Non-trainable params: 14714688 (56.13 MB)\n",
            "_________________________________________________________________\n"
          ]
        }
      ]
    },
    {
      "cell_type": "code",
      "source": [
        "vgg_model.compile(optimizer=Adam(lr=0.001),loss='sparse_categorical_crossentropy',metrics=['accuracy'])"
      ],
      "metadata": {
        "colab": {
          "base_uri": "https://localhost:8080/"
        },
        "id": "Ao_GAgLCPDvN",
        "outputId": "fade8420-ea69-4acd-d7c3-c888a19d5c86"
      },
      "execution_count": null,
      "outputs": [
        {
          "output_type": "stream",
          "name": "stderr",
          "text": [
            "WARNING:absl:`lr` is deprecated in Keras optimizer, please use `learning_rate` or use the legacy optimizer, e.g.,tf.keras.optimizers.legacy.Adam.\n"
          ]
        }
      ]
    },
    {
      "cell_type": "code",
      "source": [
        "epochs=10\n",
        "history = vgg_model.fit(train_ds,validation_data=val_ds,epochs=epochs)"
      ],
      "metadata": {
        "colab": {
          "base_uri": "https://localhost:8080/"
        },
        "id": "AAVMVQRyy0Ds",
        "outputId": "2011fd1d-2f6c-455e-cbfc-29c51ba70b95"
      },
      "execution_count": null,
      "outputs": [
        {
          "output_type": "stream",
          "name": "stdout",
          "text": [
            "Epoch 1/10\n",
            "10/10 [==============================] - 152s 15s/step - loss: 10.7126 - accuracy: 0.1368 - val_loss: 8.2628 - val_accuracy: 0.1711\n",
            "Epoch 2/10\n",
            "10/10 [==============================] - 150s 15s/step - loss: 3.7365 - accuracy: 0.4625 - val_loss: 4.9531 - val_accuracy: 0.3026\n",
            "Epoch 3/10\n",
            "10/10 [==============================] - 161s 16s/step - loss: 1.1298 - accuracy: 0.7459 - val_loss: 5.2775 - val_accuracy: 0.2763\n",
            "Epoch 4/10\n",
            "10/10 [==============================] - 161s 16s/step - loss: 0.4213 - accuracy: 0.8730 - val_loss: 3.8063 - val_accuracy: 0.3421\n",
            "Epoch 5/10\n",
            "10/10 [==============================] - 161s 16s/step - loss: 0.2034 - accuracy: 0.9251 - val_loss: 4.1399 - val_accuracy: 0.3026\n",
            "Epoch 6/10\n",
            "10/10 [==============================] - 161s 16s/step - loss: 0.0758 - accuracy: 0.9772 - val_loss: 4.1956 - val_accuracy: 0.2895\n",
            "Epoch 7/10\n",
            "10/10 [==============================] - 161s 16s/step - loss: 0.0330 - accuracy: 0.9935 - val_loss: 3.7237 - val_accuracy: 0.4079\n",
            "Epoch 8/10\n",
            "10/10 [==============================] - 150s 15s/step - loss: 0.0117 - accuracy: 1.0000 - val_loss: 3.8651 - val_accuracy: 0.3947\n",
            "Epoch 9/10\n",
            "10/10 [==============================] - 162s 16s/step - loss: 0.0069 - accuracy: 1.0000 - val_loss: 3.8528 - val_accuracy: 0.3947\n",
            "Epoch 10/10\n",
            "10/10 [==============================] - 151s 15s/step - loss: 0.0035 - accuracy: 1.0000 - val_loss: 3.8310 - val_accuracy: 0.4079\n"
          ]
        }
      ]
    },
    {
      "cell_type": "markdown",
      "source": [
        "#Data Augmentation"
      ],
      "metadata": {
        "id": "bkKGhSj-SfQO"
      }
    },
    {
      "cell_type": "code",
      "source": [
        "!pip install Augmentor"
      ],
      "metadata": {
        "id": "RkxZEO847spK"
      },
      "execution_count": null,
      "outputs": []
    },
    {
      "cell_type": "code",
      "source": [
        "import os\n",
        "from PIL import Image\n",
        "import Augmentor\n",
        "\n",
        "def augment_images(input_dir, output_dir, num_samples=200):\n",
        "    if not os.path.exists(output_dir):\n",
        "        os.makedirs(output_dir)\n",
        "    pipeline = Augmentor.Pipeline(input_dir, output_directory=output_dir)\n",
        "    pipeline.rotate(probability=0.7, max_left_rotation=10, max_right_rotation=10)\n",
        "    pipeline.flip_left_right(probability=0.5)\n",
        "    pipeline.flip_top_bottom(probability=0.5)\n",
        "    pipeline.zoom_random(probability=0.5, percentage_area=0.8)\n",
        "    pipeline.flip_random(probability=0.5)\n",
        "    pipeline.sample(num_samples)\n",
        "\n",
        "def augment_all_brands(main_dir, output_base_dir, num_samples=200):\n",
        "    for brand_dir in os.listdir(main_dir):\n",
        "        brand_path = os.path.join(main_dir, brand_dir)\n",
        "        if os.path.isdir(brand_path):\n",
        "            output_dir = os.path.join(output_base_dir, f\"augmented_{brand_dir}\")\n",
        "            print(f\"Augmenting images in {brand_path}...\")\n",
        "            augment_images(brand_path, output_dir, num_samples)\n",
        "def main():\n",
        "    main_dir = '/content/drive/MyDrive/logos'\n",
        "    output_base_dir = '/content/drive/MyDrive/augmented_logo'\n",
        "    augment_all_brands(main_dir, output_base_dir, num_samples=200)\n",
        "if __name__ == \"__main__\":\n",
        "    main()"
      ],
      "metadata": {
        "colab": {
          "base_uri": "https://localhost:8080/"
        },
        "id": "8X0DJCWF7noA",
        "outputId": "bb99a026-631a-44d3-df99-ed4da218db1d"
      },
      "execution_count": null,
      "outputs": [
        {
          "output_type": "stream",
          "name": "stdout",
          "text": [
            "Augmenting images in /content/drive/MyDrive/logos/Volkswagen...\n",
            "Initialised with 42 image(s) found.\n",
            "Output directory set to /content/drive/MyDrive/augmented_logo/augmented_Volkswagen."
          ]
        },
        {
          "output_type": "stream",
          "name": "stderr",
          "text": [
            "Processing <PIL.Image.Image image mode=RGB size=1000x750 at 0x79B81D9011B0>: 100%|██████████| 200/200 [00:24<00:00,  8.02 Samples/s]\n"
          ]
        },
        {
          "output_type": "stream",
          "name": "stdout",
          "text": [
            "Augmenting images in /content/drive/MyDrive/logos/Suzuki...\n",
            "Initialised with 41 image(s) found.\n",
            "Output directory set to /content/drive/MyDrive/augmented_logo/augmented_Suzuki."
          ]
        },
        {
          "output_type": "stream",
          "name": "stderr",
          "text": [
            "Processing <PIL.Image.Image image mode=RGB size=331x248 at 0x79B7934FE200>: 100%|██████████| 200/200 [00:26<00:00,  7.69 Samples/s]\n"
          ]
        },
        {
          "output_type": "stream",
          "name": "stdout",
          "text": [
            "Augmenting images in /content/drive/MyDrive/logos/Nissan...\n",
            "Initialised with 43 image(s) found.\n",
            "Output directory set to /content/drive/MyDrive/augmented_logo/augmented_Nissan."
          ]
        },
        {
          "output_type": "stream",
          "name": "stderr",
          "text": [
            "Processing <PIL.Image.Image image mode=RGB size=1024x768 at 0x79B794653F40>: 100%|██████████| 200/200 [00:26<00:00,  7.42 Samples/s]\n"
          ]
        },
        {
          "output_type": "stream",
          "name": "stdout",
          "text": [
            "Augmenting images in /content/drive/MyDrive/logos/Honday...\n",
            "Initialised with 42 image(s) found.\n",
            "Output directory set to /content/drive/MyDrive/augmented_logo/augmented_Honday."
          ]
        },
        {
          "output_type": "stream",
          "name": "stderr",
          "text": [
            "Processing <PIL.Image.Image image mode=RGB size=700x525 at 0x79B7934EC2B0>: 100%|██████████| 200/200 [00:12<00:00, 15.65 Samples/s]\n"
          ]
        },
        {
          "output_type": "stream",
          "name": "stdout",
          "text": [
            "Augmenting images in /content/drive/MyDrive/logos/Hyundai...\n",
            "Initialised with 43 image(s) found.\n",
            "Output directory set to /content/drive/MyDrive/augmented_logo/augmented_Hyundai."
          ]
        },
        {
          "output_type": "stream",
          "name": "stderr",
          "text": [
            "Processing <PIL.Image.Image image mode=RGB size=1000x859 at 0x79B793476650>: 100%|██████████| 200/200 [00:18<00:00, 10.61 Samples/s]\n"
          ]
        },
        {
          "output_type": "stream",
          "name": "stdout",
          "text": [
            "Augmenting images in /content/drive/MyDrive/logos/Tata...\n",
            "Initialised with 41 image(s) found.\n",
            "Output directory set to /content/drive/MyDrive/augmented_logo/augmented_Tata."
          ]
        },
        {
          "output_type": "stream",
          "name": "stderr",
          "text": [
            "Processing <PIL.Image.Image image mode=RGB size=760x443 at 0x79B792B56A10>: 100%|██████████| 200/200 [00:33<00:00,  5.91 Samples/s]\n"
          ]
        },
        {
          "output_type": "stream",
          "name": "stdout",
          "text": [
            "Augmenting images in /content/drive/MyDrive/logos/Renault...\n",
            "Initialised with 44 image(s) found.\n",
            "Output directory set to /content/drive/MyDrive/augmented_logo/augmented_Renault."
          ]
        },
        {
          "output_type": "stream",
          "name": "stderr",
          "text": [
            "Processing <PIL.Image.Image image mode=RGB size=1473x982 at 0x79B7934FC940>: 100%|██████████| 200/200 [00:40<00:00,  4.93 Samples/s]\n"
          ]
        },
        {
          "output_type": "stream",
          "name": "stdout",
          "text": [
            "Augmenting images in /content/drive/MyDrive/logos/Ford...\n",
            "Initialised with 43 image(s) found.\n",
            "Output directory set to /content/drive/MyDrive/augmented_logo/augmented_Ford."
          ]
        },
        {
          "output_type": "stream",
          "name": "stderr",
          "text": [
            "Processing <PIL.Image.Image image mode=RGB size=1062x795 at 0x79B792B556F0>: 100%|██████████| 200/200 [00:33<00:00,  6.00 Samples/s]\n"
          ]
        },
        {
          "output_type": "stream",
          "name": "stdout",
          "text": [
            "Augmenting images in /content/drive/MyDrive/logos/Toyota...\n",
            "Initialised with 44 image(s) found.\n",
            "Output directory set to /content/drive/MyDrive/augmented_logo/augmented_Toyota."
          ]
        },
        {
          "output_type": "stream",
          "name": "stderr",
          "text": [
            "Processing <PIL.Image.Image image mode=RGB size=528x400 at 0x79B794625210>: 100%|██████████| 200/200 [00:20<00:00,  9.84 Samples/s]\n"
          ]
        }
      ]
    },
    {
      "cell_type": "code",
      "source": [
        "import os\n",
        "for dirpath, dirnames, filenames in os.walk(\"/content/drive/MyDrive/augmented_logo\"):\n",
        "  print(f\"There are {len(dirnames)} directories and {len(filenames)} images in '{dirpath}'.\")"
      ],
      "metadata": {
        "colab": {
          "base_uri": "https://localhost:8080/"
        },
        "id": "RcbACU_A9cah",
        "outputId": "b6bc89ec-e373-42d6-cf1c-f535c3762e34"
      },
      "execution_count": null,
      "outputs": [
        {
          "output_type": "stream",
          "name": "stdout",
          "text": [
            "There are 9 directories and 0 images in '/content/drive/MyDrive/augmented_logo'.\n",
            "There are 0 directories and 200 images in '/content/drive/MyDrive/augmented_logo/augmented_Volkswagen'.\n",
            "There are 0 directories and 200 images in '/content/drive/MyDrive/augmented_logo/augmented_Suzuki'.\n",
            "There are 0 directories and 200 images in '/content/drive/MyDrive/augmented_logo/augmented_Nissan'.\n",
            "There are 0 directories and 200 images in '/content/drive/MyDrive/augmented_logo/augmented_Honday'.\n",
            "There are 0 directories and 200 images in '/content/drive/MyDrive/augmented_logo/augmented_Hyundai'.\n",
            "There are 0 directories and 200 images in '/content/drive/MyDrive/augmented_logo/augmented_Tata'.\n",
            "There are 0 directories and 200 images in '/content/drive/MyDrive/augmented_logo/augmented_Renault'.\n",
            "There are 0 directories and 200 images in '/content/drive/MyDrive/augmented_logo/augmented_Ford'.\n",
            "There are 0 directories and 200 images in '/content/drive/MyDrive/augmented_logo/augmented_Toyota'.\n"
          ]
        }
      ]
    },
    {
      "cell_type": "code",
      "source": [
        "data_dir='/content/drive/MyDrive/augmented_logo'"
      ],
      "metadata": {
        "id": "WCvY3fPv-020"
      },
      "execution_count": null,
      "outputs": []
    },
    {
      "cell_type": "code",
      "source": [
        "img_height,img_width=180,180\n",
        "batch_size=32\n",
        "train_ds = tf.keras.preprocessing.image_dataset_from_directory(\n",
        "  data_dir,\n",
        "  validation_split=0.2,\n",
        "  subset=\"training\",\n",
        "  seed=123,\n",
        "  image_size=(img_height, img_width),\n",
        "  batch_size=batch_size)"
      ],
      "metadata": {
        "colab": {
          "base_uri": "https://localhost:8080/"
        },
        "id": "qc0mk9vm-nP7",
        "outputId": "4014ba6b-6b9f-41e1-8276-765f1e247c91"
      },
      "execution_count": null,
      "outputs": [
        {
          "output_type": "stream",
          "name": "stdout",
          "text": [
            "Found 1800 files belonging to 9 classes.\n",
            "Using 1440 files for training.\n"
          ]
        }
      ]
    },
    {
      "cell_type": "code",
      "source": [
        "val_ds = tf.keras.preprocessing.image_dataset_from_directory(\n",
        "  data_dir,\n",
        "  validation_split=0.2,\n",
        "  subset=\"validation\",\n",
        "  seed=123,\n",
        "  image_size=(img_height, img_width),\n",
        "  batch_size=batch_size)"
      ],
      "metadata": {
        "colab": {
          "base_uri": "https://localhost:8080/"
        },
        "id": "ELoZ5RYW-49x",
        "outputId": "1a62beed-fa51-4e13-8ce3-68ca112a20dd"
      },
      "execution_count": null,
      "outputs": [
        {
          "output_type": "stream",
          "name": "stdout",
          "text": [
            "Found 1800 files belonging to 9 classes.\n",
            "Using 360 files for validation.\n"
          ]
        }
      ]
    },
    {
      "cell_type": "code",
      "source": [
        "class_names = val_ds.class_names\n",
        "print(class_names)"
      ],
      "metadata": {
        "colab": {
          "base_uri": "https://localhost:8080/"
        },
        "id": "2cybx3eh-8Nh",
        "outputId": "4b9c1957-5bda-491b-c2f0-b30ef0eb47bd"
      },
      "execution_count": null,
      "outputs": [
        {
          "output_type": "stream",
          "name": "stdout",
          "text": [
            "['augmented_Ford', 'augmented_Honday', 'augmented_Hyundai', 'augmented_Nissan', 'augmented_Renault', 'augmented_Suzuki', 'augmented_Tata', 'augmented_Toyota', 'augmented_Volkswagen']\n"
          ]
        }
      ]
    },
    {
      "cell_type": "markdown",
      "source": [
        "#RESNET50 MODEL"
      ],
      "metadata": {
        "id": "YqLoMF2B_DZp"
      }
    },
    {
      "cell_type": "code",
      "source": [
        "resnet_model = Sequential()\n",
        "\n",
        "pretrained_model= tf.keras.applications.ResNet50(include_top=False,\n",
        "                   input_shape=(180,180,3),\n",
        "                   pooling='avg',classes=9,\n",
        "                   weights='imagenet')\n",
        "for layer in pretrained_model.layers:\n",
        "        layer.trainable=False\n",
        "\n",
        "resnet_model.add(pretrained_model)\n",
        "resnet_model.add(Flatten())\n",
        "resnet_model.add(Dense(512, activation='relu'))\n",
        "resnet_model.add(Dense(9, activation='softmax'))"
      ],
      "metadata": {
        "id": "WIniH13v_AZX"
      },
      "execution_count": null,
      "outputs": []
    },
    {
      "cell_type": "code",
      "source": [
        "resnet_model.summary()"
      ],
      "metadata": {
        "colab": {
          "base_uri": "https://localhost:8080/"
        },
        "id": "KPLiPC9U_M3X",
        "outputId": "d56e8c0f-c9d1-4025-843c-085bd1aa25c1"
      },
      "execution_count": null,
      "outputs": [
        {
          "output_type": "stream",
          "name": "stdout",
          "text": [
            "Model: \"sequential_1\"\n",
            "_________________________________________________________________\n",
            " Layer (type)                Output Shape              Param #   \n",
            "=================================================================\n",
            " resnet50 (Functional)       (None, 2048)              23587712  \n",
            "                                                                 \n",
            " module_wrapper_3 (ModuleWr  (None, 2048)              0         \n",
            " apper)                                                          \n",
            "                                                                 \n",
            " module_wrapper_4 (ModuleWr  (None, 512)               1049088   \n",
            " apper)                                                          \n",
            "                                                                 \n",
            " module_wrapper_5 (ModuleWr  (None, 9)                 4617      \n",
            " apper)                                                          \n",
            "                                                                 \n",
            "=================================================================\n",
            "Total params: 24641417 (94.00 MB)\n",
            "Trainable params: 1053705 (4.02 MB)\n",
            "Non-trainable params: 23587712 (89.98 MB)\n",
            "_________________________________________________________________\n"
          ]
        }
      ]
    },
    {
      "cell_type": "code",
      "source": [
        "resnet_model.compile(optimizer=Adam(lr=0.001),loss='sparse_categorical_crossentropy',metrics=['accuracy'])"
      ],
      "metadata": {
        "colab": {
          "base_uri": "https://localhost:8080/"
        },
        "id": "gO12hhzg_PEX",
        "outputId": "2827b584-7b14-4ba6-c777-4e4bfa568ee2"
      },
      "execution_count": null,
      "outputs": [
        {
          "output_type": "stream",
          "name": "stderr",
          "text": [
            "WARNING:absl:`lr` is deprecated in Keras optimizer, please use `learning_rate` or use the legacy optimizer, e.g.,tf.keras.optimizers.legacy.Adam.\n"
          ]
        }
      ]
    },
    {
      "cell_type": "code",
      "source": [
        "epochs=10\n",
        "history = resnet_model.fit(train_ds,validation_data=val_ds,epochs=epochs)"
      ],
      "metadata": {
        "id": "ci5PAt_YZuYu",
        "colab": {
          "base_uri": "https://localhost:8080/"
        },
        "outputId": "4ceb6fc4-3e7a-44ca-94be-83c531a830c9"
      },
      "execution_count": null,
      "outputs": [
        {
          "output_type": "stream",
          "name": "stdout",
          "text": [
            "Epoch 1/10\n",
            "45/45 [==============================] - 267s 6s/step - loss: 2.1388 - accuracy: 0.3597 - val_loss: 1.2552 - val_accuracy: 0.6056\n",
            "Epoch 2/10\n",
            "45/45 [==============================] - 290s 6s/step - loss: 0.8844 - accuracy: 0.7278 - val_loss: 0.9684 - val_accuracy: 0.7028\n",
            "Epoch 3/10\n",
            "45/45 [==============================] - 283s 6s/step - loss: 0.4766 - accuracy: 0.8590 - val_loss: 0.6202 - val_accuracy: 0.8250\n",
            "Epoch 4/10\n",
            "45/45 [==============================] - 282s 6s/step - loss: 0.2467 - accuracy: 0.9514 - val_loss: 0.4783 - val_accuracy: 0.8639\n",
            "Epoch 5/10\n",
            "45/45 [==============================] - 283s 6s/step - loss: 0.1279 - accuracy: 0.9833 - val_loss: 0.4563 - val_accuracy: 0.8500\n",
            "Epoch 6/10\n",
            "45/45 [==============================] - 281s 6s/step - loss: 0.0636 - accuracy: 0.9993 - val_loss: 0.3924 - val_accuracy: 0.8889\n",
            "Epoch 7/10\n",
            "45/45 [==============================] - 251s 6s/step - loss: 0.0375 - accuracy: 1.0000 - val_loss: 0.3618 - val_accuracy: 0.8972\n",
            "Epoch 8/10\n",
            "45/45 [==============================] - 250s 6s/step - loss: 0.0250 - accuracy: 1.0000 - val_loss: 0.3342 - val_accuracy: 0.9000\n",
            "Epoch 9/10\n",
            "45/45 [==============================] - 249s 5s/step - loss: 0.0181 - accuracy: 1.0000 - val_loss: 0.3334 - val_accuracy: 0.8972\n",
            "Epoch 10/10\n",
            "45/45 [==============================] - 284s 6s/step - loss: 0.0138 - accuracy: 1.0000 - val_loss: 0.3255 - val_accuracy: 0.9028\n"
          ]
        }
      ]
    },
    {
      "cell_type": "markdown",
      "source": [
        "#Testing"
      ],
      "metadata": {
        "id": "dGYvaj2nls0R"
      }
    },
    {
      "cell_type": "code",
      "source": [
        "import cv2\n",
        "image=cv2.imread(\"/content/drive/MyDrive/augmented_logo/augmented_Tata/Tata_original_frontfacingTatamotorscar0.jpeg_02338843-5c0b-48a6-bd89-087bab2d957f.jpeg\")\n",
        "image_resized= cv2.resize(image, (img_height,img_width))\n",
        "image=np.expand_dims(image_resized,axis=0)\n",
        "print(image.shape)\n"
      ],
      "metadata": {
        "id": "nARoJV1NZgCA",
        "colab": {
          "base_uri": "https://localhost:8080/"
        },
        "outputId": "2cf2850b-716d-4706-8e7f-f9c03026d551"
      },
      "execution_count": null,
      "outputs": [
        {
          "output_type": "stream",
          "name": "stdout",
          "text": [
            "(1, 180, 180, 3)\n"
          ]
        }
      ]
    },
    {
      "cell_type": "code",
      "source": [
        "pred=resnet_model.predict(image)\n",
        "print(pred)"
      ],
      "metadata": {
        "id": "17kY8EhHZhmS",
        "colab": {
          "base_uri": "https://localhost:8080/"
        },
        "outputId": "09bc8d31-e84d-4713-a972-5183b6f2a348"
      },
      "execution_count": null,
      "outputs": [
        {
          "output_type": "stream",
          "name": "stdout",
          "text": [
            "1/1 [==============================] - 1s 1s/step\n",
            "[[2.4799647e-02 1.1779516e-03 6.4664632e-03 5.8153863e-03 1.8649459e-02\n",
            "  1.8289686e-03 9.4052708e-01 4.3679669e-04 2.9822518e-04]]\n"
          ]
        }
      ]
    },
    {
      "cell_type": "code",
      "source": [
        "output_class=class_names[np.argmax(pred)]\n",
        "print(\"The predicted class is\", output_class)"
      ],
      "metadata": {
        "id": "fLes0SUnZpN2",
        "colab": {
          "base_uri": "https://localhost:8080/"
        },
        "outputId": "cd22f618-c84d-4d1a-cfba-942e2ab4f9f3"
      },
      "execution_count": null,
      "outputs": [
        {
          "output_type": "stream",
          "name": "stdout",
          "text": [
            "The predicted class is augmented_Tata\n"
          ]
        }
      ]
    },
    {
      "cell_type": "markdown",
      "source": [
        "#VGG16 MODEL"
      ],
      "metadata": {
        "id": "p_XmGhWXORBN"
      }
    },
    {
      "cell_type": "code",
      "source": [
        "from tensorflow.keras.models import Sequential\n",
        "from tensorflow.keras.layers import Dense, Flatten\n",
        "from tensorflow.keras.applications import VGG16\n",
        "import tensorflow as tf"
      ],
      "metadata": {
        "id": "aQpWjAXaLWKv"
      },
      "execution_count": null,
      "outputs": []
    },
    {
      "cell_type": "code",
      "source": [
        "vgg_model = Sequential()\n",
        "pretrained_model = VGG16(include_top=False,\n",
        "                         input_shape=(180, 180, 3),\n",
        "                         pooling='avg',\n",
        "                         weights='imagenet')\n",
        "for layer in pretrained_model.layers:\n",
        "    layer.trainable = False\n",
        "vgg_model.add(pretrained_model)\n",
        "vgg_model.add(Flatten())\n",
        "vgg_model.add(Dense(512, activation='relu'))\n",
        "vgg_model.add(Dense(9, activation='softmax'))\n",
        "vgg_model.summary()"
      ],
      "metadata": {
        "id": "JDVGZG8yOUj5",
        "colab": {
          "base_uri": "https://localhost:8080/"
        },
        "outputId": "11244666-efe9-4318-b9f5-926498c5b11b"
      },
      "execution_count": null,
      "outputs": [
        {
          "output_type": "stream",
          "name": "stdout",
          "text": [
            "Downloading data from https://storage.googleapis.com/tensorflow/keras-applications/vgg16/vgg16_weights_tf_dim_ordering_tf_kernels_notop.h5\n",
            "58889256/58889256 [==============================] - 0s 0us/step\n",
            "Model: \"sequential_2\"\n",
            "_________________________________________________________________\n",
            " Layer (type)                Output Shape              Param #   \n",
            "=================================================================\n",
            " vgg16 (Functional)          (None, 512)               14714688  \n",
            "                                                                 \n",
            " flatten (Flatten)           (None, 512)               0         \n",
            "                                                                 \n",
            " dense (Dense)               (None, 512)               262656    \n",
            "                                                                 \n",
            " dense_1 (Dense)             (None, 9)                 4617      \n",
            "                                                                 \n",
            "=================================================================\n",
            "Total params: 14981961 (57.15 MB)\n",
            "Trainable params: 267273 (1.02 MB)\n",
            "Non-trainable params: 14714688 (56.13 MB)\n",
            "_________________________________________________________________\n"
          ]
        }
      ]
    },
    {
      "cell_type": "code",
      "source": [
        "vgg_model.compile(optimizer=Adam(lr=0.001),loss='sparse_categorical_crossentropy',metrics=['accuracy'])"
      ],
      "metadata": {
        "id": "2UqM7NpzOZ8k",
        "colab": {
          "base_uri": "https://localhost:8080/"
        },
        "outputId": "e5168dee-275a-40c8-8121-01987685ce69"
      },
      "execution_count": null,
      "outputs": [
        {
          "output_type": "stream",
          "name": "stderr",
          "text": [
            "WARNING:absl:`lr` is deprecated in Keras optimizer, please use `learning_rate` or use the legacy optimizer, e.g.,tf.keras.optimizers.legacy.Adam.\n"
          ]
        }
      ]
    },
    {
      "cell_type": "code",
      "source": [
        "epochs=10\n",
        "history = vgg_model.fit(train_ds,validation_data=val_ds,epochs=epochs)"
      ],
      "metadata": {
        "id": "U9PVvMr0OanE",
        "colab": {
          "base_uri": "https://localhost:8080/"
        },
        "outputId": "affb898d-ee2d-42b5-9bd3-d181042ff890"
      },
      "execution_count": null,
      "outputs": [
        {
          "output_type": "stream",
          "name": "stdout",
          "text": [
            "Epoch 1/10\n",
            "45/45 [==============================] - 786s 17s/step - loss: 4.8777 - accuracy: 0.3757 - val_loss: 2.1831 - val_accuracy: 0.5667\n",
            "Epoch 2/10\n",
            "45/45 [==============================] - 714s 16s/step - loss: 0.9385 - accuracy: 0.7542 - val_loss: 1.0700 - val_accuracy: 0.7250\n",
            "Epoch 3/10\n",
            "45/45 [==============================] - 754s 17s/step - loss: 0.2409 - accuracy: 0.9208 - val_loss: 0.8816 - val_accuracy: 0.7500\n",
            "Epoch 4/10\n",
            "45/45 [==============================] - 695s 15s/step - loss: 0.0791 - accuracy: 0.9736 - val_loss: 0.6808 - val_accuracy: 0.8222\n",
            "Epoch 5/10\n",
            "45/45 [==============================] - 694s 15s/step - loss: 0.0200 - accuracy: 0.9986 - val_loss: 0.5809 - val_accuracy: 0.8306\n",
            "Epoch 6/10\n",
            "45/45 [==============================] - 698s 16s/step - loss: 0.0071 - accuracy: 1.0000 - val_loss: 0.5757 - val_accuracy: 0.8500\n",
            "Epoch 7/10\n",
            "45/45 [==============================] - 698s 16s/step - loss: 0.0048 - accuracy: 1.0000 - val_loss: 0.5687 - val_accuracy: 0.8472\n",
            "Epoch 8/10\n",
            "45/45 [==============================] - 692s 15s/step - loss: 0.0039 - accuracy: 1.0000 - val_loss: 0.5665 - val_accuracy: 0.8528\n",
            "Epoch 9/10\n",
            "45/45 [==============================] - 695s 15s/step - loss: 0.0033 - accuracy: 1.0000 - val_loss: 0.5655 - val_accuracy: 0.8528\n",
            "Epoch 10/10\n",
            "45/45 [==============================] - 692s 15s/step - loss: 0.0029 - accuracy: 1.0000 - val_loss: 0.5626 - val_accuracy: 0.8500\n"
          ]
        }
      ]
    },
    {
      "cell_type": "code",
      "source": [
        "import cv2\n",
        "image=cv2.imread(\"/content/drive/MyDrive/augmented_logo/augmented_Renault/Renault_original_frontfacingRenaultcar347.jpeg_21536322-eb53-48f7-8b1b-f0b89dbf209a.jpeg\")\n",
        "image_resized= cv2.resize(image, (img_height,img_width))\n",
        "image=np.expand_dims(image_resized,axis=0)\n",
        "print(image.shape)"
      ],
      "metadata": {
        "id": "W6HDSkX7OhQX",
        "colab": {
          "base_uri": "https://localhost:8080/"
        },
        "outputId": "e186c0ff-cbc5-419c-8464-1c5c02f4e6be"
      },
      "execution_count": null,
      "outputs": [
        {
          "output_type": "stream",
          "name": "stdout",
          "text": [
            "(1, 180, 180, 3)\n"
          ]
        }
      ]
    },
    {
      "cell_type": "code",
      "source": [
        "pred=vgg_model.predict(image)\n",
        "print(pred)"
      ],
      "metadata": {
        "id": "jb5peI50Okms",
        "colab": {
          "base_uri": "https://localhost:8080/"
        },
        "outputId": "1d87a0c6-7f8a-495c-db5f-c3db7eb35fca"
      },
      "execution_count": null,
      "outputs": [
        {
          "output_type": "stream",
          "name": "stdout",
          "text": [
            "1/1 [==============================] - 1s 692ms/step\n",
            "[[2.1439398e-12 5.3616518e-14 3.1266800e-09 2.0911183e-12 9.9999988e-01\n",
            "  1.0601261e-07 1.3246598e-09 1.3163775e-14 3.7392276e-13]]\n"
          ]
        }
      ]
    },
    {
      "cell_type": "code",
      "source": [
        "output_class=class_names[np.argmax(pred)]\n",
        "print(\"The predicted class is\", output_class)"
      ],
      "metadata": {
        "id": "RhJgoLngOlMs",
        "colab": {
          "base_uri": "https://localhost:8080/"
        },
        "outputId": "df8aa45a-359e-4735-c8a3-112e418600e2"
      },
      "execution_count": null,
      "outputs": [
        {
          "output_type": "stream",
          "name": "stdout",
          "text": [
            "The predicted class is augmented_Renault\n"
          ]
        }
      ]
    }
  ]
}